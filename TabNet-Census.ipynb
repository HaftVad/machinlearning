{
 "cells": [
  {
   "cell_type": "code",
   "execution_count": null,
   "metadata": {},
   "outputs": [],
   "source": [
    "from pytorch_tabnet.tab_model import TabNetClassifier\n",
    "\n",
    "import torch\n",
    "from sklearn.preprocessing import LabelEncoder\n",
    "from sklearn.metrics import roc_auc_score\n",
    "from sklearn.preprocessing import LabelBinarizer\n",
    "import pandas as pd\n",
    "import numpy as np\n",
    "np.random.seed(0)\n",
    "from sklearn.metrics import classification_report\n",
    "\n",
    "import os\n",
    "import wget\n",
    "from pathlib import Path\n",
    "\n",
    "from matplotlib import pyplot as plt\n",
    "%matplotlib inline"
   ]
  },
  {
   "cell_type": "markdown",
   "metadata": {},
   "source": [
    "# Download census-income dataset"
   ]
  },
  {
   "cell_type": "code",
   "execution_count": 16,
   "metadata": {},
   "outputs": [],
   "source": [
    "url = \"https://archive.ics.uci.edu/ml/machine-learning-databases/adult/adult.data\"\n",
    "dataset_name = 'census-income'\n",
    "out = Path(os.getcwd()+'/data/'+dataset_name+'.csv')"
   ]
  },
  {
   "cell_type": "code",
   "execution_count": 17,
   "metadata": {},
   "outputs": [
    {
     "name": "stdout",
     "output_type": "stream",
     "text": [
      "Downloading file...\n"
     ]
    }
   ],
   "source": [
    "out.parent.mkdir(parents=True, exist_ok=True)\n",
    "if out.exists():\n",
    "    print(\"File already exists.\")\n",
    "else:\n",
    "    print(\"Downloading file...\")\n",
    "    wget.download(url, out.as_posix())"
   ]
  },
  {
   "cell_type": "markdown",
   "metadata": {},
   "source": [
    "# Load data and split"
   ]
  },
  {
   "cell_type": "code",
   "execution_count": 18,
   "metadata": {},
   "outputs": [],
   "source": [
    "train = pd.read_csv(out)\n",
    "target = ' <=50K'\n",
    "if \"Set\" not in train.columns:\n",
    "    train[\"Set\"] = np.random.choice([\"train\", \"valid\", \"test\"], p =[.8, .1, .1], size=(train.shape[0],))\n",
    "\n",
    "train_indices = train[train.Set==\"train\"].index\n",
    "valid_indices = train[train.Set==\"valid\"].index\n",
    "test_indices = train[train.Set==\"test\"].index"
   ]
  },
  {
   "cell_type": "markdown",
   "metadata": {},
   "source": [
    "# Simple preprocessing\n",
    "\n",
    "Label encode categorical features and fill empty cells."
   ]
  },
  {
   "cell_type": "code",
   "execution_count": 19,
   "metadata": {},
   "outputs": [
    {
     "name": "stdout",
     "output_type": "stream",
     "text": [
      "39 73\n",
      " State-gov 9\n",
      " Bachelors 16\n",
      " 13 16\n",
      " Never-married 7\n",
      " Adm-clerical 15\n",
      " Not-in-family 6\n",
      " White 5\n",
      " Male 2\n",
      " 2174 119\n",
      " 0 92\n",
      " 40 94\n",
      " United-States 42\n",
      " <=50K 2\n",
      "Set 3\n"
     ]
    }
   ],
   "source": [
    "nunique = train.nunique()\n",
    "types = train.dtypes\n",
    "\n",
    "categorical_columns = []\n",
    "categorical_dims =  {}\n",
    "for col in train.columns:\n",
    "    if types[col] == 'object' or nunique[col] < 200:\n",
    "        print(col, train[col].nunique())\n",
    "        l_enc = LabelEncoder()\n",
    "        train[col] = train[col].fillna(\"VV_likely\")\n",
    "        train[col] = l_enc.fit_transform(train[col].values)\n",
    "        categorical_columns.append(col)\n",
    "        categorical_dims[col] = len(l_enc.classes_)\n",
    "    else:\n",
    "        train.fillna(train.loc[train_indices, col].mean(), inplace=True)"
   ]
  },
  {
   "cell_type": "code",
   "execution_count": 20,
   "metadata": {},
   "outputs": [],
   "source": [
    "# check that pipeline accepts strings\n",
    "train.loc[train[target]==0, target] = \"wealthy\"\n",
    "train.loc[train[target]==1, target] = \"not_wealthy\""
   ]
  },
  {
   "cell_type": "markdown",
   "metadata": {},
   "source": [
    "# Define categorical features for categorical embeddings"
   ]
  },
  {
   "cell_type": "code",
   "execution_count": 21,
   "metadata": {},
   "outputs": [],
   "source": [
    "unused_feat = ['Set']\n",
    "\n",
    "features = [ col for col in train.columns if col not in unused_feat+[target]] \n",
    "\n",
    "cat_idxs = [ i for i, f in enumerate(features) if f in categorical_columns]\n",
    "\n",
    "cat_dims = [ categorical_dims[f] for i, f in enumerate(features) if f in categorical_columns]\n"
   ]
  },
  {
   "cell_type": "markdown",
   "metadata": {},
   "source": [
    "# Network parameters"
   ]
  },
  {
   "cell_type": "code",
   "execution_count": 22,
   "metadata": {},
   "outputs": [
    {
     "name": "stderr",
     "output_type": "stream",
     "text": [
      "c:\\Users\\mohammad spm\\AppData\\Local\\Programs\\Python\\Python311\\Lib\\site-packages\\pytorch_tabnet\\abstract_model.py:82: UserWarning: Device used : cpu\n",
      "  warnings.warn(f\"Device used : {self.device}\")\n"
     ]
    }
   ],
   "source": [
    "tabnet_params = {\"cat_idxs\":cat_idxs,\n",
    "                 \"cat_dims\":cat_dims,\n",
    "                 \"cat_emb_dim\":1,\n",
    "                 \"optimizer_fn\":torch.optim.Adam,\n",
    "                 \"optimizer_params\":dict(lr=2e-2),\n",
    "                 \"scheduler_params\":{\"step_size\":50, # how to use learning rate scheduler\n",
    "                                 \"gamma\":0.9},\n",
    "                 \"scheduler_fn\":torch.optim.lr_scheduler.StepLR,\n",
    "                 \"mask_type\":'entmax' # \"sparsemax\"\n",
    "                }\n",
    "\n",
    "clf = TabNetClassifier(**tabnet_params\n",
    "                      )"
   ]
  },
  {
   "cell_type": "markdown",
   "metadata": {},
   "source": [
    "# Training"
   ]
  },
  {
   "cell_type": "code",
   "execution_count": 23,
   "metadata": {},
   "outputs": [],
   "source": [
    "X_train = train[features].values[train_indices]\n",
    "y_train = train[target].values[train_indices]\n",
    "\n",
    "X_valid = train[features].values[valid_indices]\n",
    "y_valid = train[target].values[valid_indices]\n",
    "\n",
    "X_test = train[features].values[test_indices]\n",
    "y_test = train[target].values[test_indices]"
   ]
  },
  {
   "cell_type": "code",
   "execution_count": 24,
   "metadata": {},
   "outputs": [],
   "source": [
    "max_epochs = 100 if not os.getenv(\"CI\", False) else 2"
   ]
  },
  {
   "cell_type": "code",
   "execution_count": 25,
   "metadata": {
    "scrolled": true
   },
   "outputs": [
    {
     "name": "stdout",
     "output_type": "stream",
     "text": [
      "epoch 0  | loss: 0.66676 | train_auc: 0.76596 | valid_auc: 0.76667 |  0:00:03s\n",
      "epoch 1  | loss: 0.51109 | train_auc: 0.82248 | valid_auc: 0.82776 |  0:00:05s\n",
      "epoch 2  | loss: 0.46758 | train_auc: 0.85349 | valid_auc: 0.85659 |  0:00:08s\n",
      "epoch 3  | loss: 0.44612 | train_auc: 0.87304 | valid_auc: 0.87552 |  0:00:11s\n",
      "epoch 4  | loss: 0.42254 | train_auc: 0.88672 | valid_auc: 0.88299 |  0:00:14s\n",
      "epoch 5  | loss: 0.40975 | train_auc: 0.89478 | valid_auc: 0.89031 |  0:00:17s\n",
      "epoch 6  | loss: 0.39924 | train_auc: 0.90188 | valid_auc: 0.89676 |  0:00:20s\n",
      "epoch 7  | loss: 0.38848 | train_auc: 0.90704 | valid_auc: 0.9051  |  0:00:23s\n",
      "epoch 8  | loss: 0.38329 | train_auc: 0.91231 | valid_auc: 0.90962 |  0:00:26s\n",
      "epoch 9  | loss: 0.3686  | train_auc: 0.91208 | valid_auc: 0.90919 |  0:00:28s\n",
      "epoch 10 | loss: 0.36918 | train_auc: 0.91255 | valid_auc: 0.91137 |  0:00:31s\n",
      "epoch 11 | loss: 0.35408 | train_auc: 0.89701 | valid_auc: 0.89366 |  0:00:34s\n",
      "epoch 12 | loss: 0.35131 | train_auc: 0.89738 | valid_auc: 0.89503 |  0:00:36s\n",
      "epoch 13 | loss: 0.35154 | train_auc: 0.91196 | valid_auc: 0.91031 |  0:00:39s\n",
      "epoch 14 | loss: 0.34718 | train_auc: 0.91891 | valid_auc: 0.91672 |  0:00:42s\n",
      "epoch 15 | loss: 0.34361 | train_auc: 0.92307 | valid_auc: 0.92016 |  0:00:45s\n",
      "epoch 16 | loss: 0.34063 | train_auc: 0.9278  | valid_auc: 0.92259 |  0:00:47s\n",
      "epoch 17 | loss: 0.33684 | train_auc: 0.9248  | valid_auc: 0.92116 |  0:00:50s\n",
      "epoch 18 | loss: 0.34121 | train_auc: 0.92939 | valid_auc: 0.92514 |  0:00:53s\n",
      "epoch 19 | loss: 0.34294 | train_auc: 0.92893 | valid_auc: 0.92337 |  0:01:01s\n",
      "epoch 20 | loss: 0.33353 | train_auc: 0.92869 | valid_auc: 0.92227 |  0:01:07s\n",
      "epoch 21 | loss: 0.32889 | train_auc: 0.92965 | valid_auc: 0.922   |  0:01:12s\n",
      "epoch 22 | loss: 0.33041 | train_auc: 0.93117 | valid_auc: 0.92597 |  0:01:16s\n",
      "epoch 23 | loss: 0.33024 | train_auc: 0.93237 | valid_auc: 0.92567 |  0:01:19s\n",
      "epoch 24 | loss: 0.33425 | train_auc: 0.93316 | valid_auc: 0.92755 |  0:01:23s\n",
      "epoch 25 | loss: 0.32778 | train_auc: 0.93351 | valid_auc: 0.92765 |  0:01:27s\n",
      "epoch 26 | loss: 0.32096 | train_auc: 0.93354 | valid_auc: 0.92702 |  0:01:30s\n",
      "epoch 27 | loss: 0.32618 | train_auc: 0.93097 | valid_auc: 0.92476 |  0:01:33s\n",
      "epoch 28 | loss: 0.3283  | train_auc: 0.93305 | valid_auc: 0.9271  |  0:01:37s\n",
      "epoch 29 | loss: 0.3255  | train_auc: 0.93465 | valid_auc: 0.92728 |  0:01:41s\n",
      "epoch 30 | loss: 0.32154 | train_auc: 0.93539 | valid_auc: 0.92835 |  0:01:45s\n",
      "epoch 31 | loss: 0.31875 | train_auc: 0.93584 | valid_auc: 0.92948 |  0:01:48s\n",
      "epoch 32 | loss: 0.32125 | train_auc: 0.93448 | valid_auc: 0.92759 |  0:01:51s\n",
      "epoch 33 | loss: 0.32489 | train_auc: 0.93503 | valid_auc: 0.92651 |  0:01:55s\n",
      "epoch 34 | loss: 0.31889 | train_auc: 0.93632 | valid_auc: 0.92903 |  0:01:59s\n",
      "epoch 35 | loss: 0.31349 | train_auc: 0.93731 | valid_auc: 0.92847 |  0:02:02s\n",
      "epoch 36 | loss: 0.3209  | train_auc: 0.93686 | valid_auc: 0.92779 |  0:02:06s\n",
      "epoch 37 | loss: 0.31481 | train_auc: 0.93673 | valid_auc: 0.92646 |  0:02:09s\n",
      "epoch 38 | loss: 0.32443 | train_auc: 0.93475 | valid_auc: 0.92408 |  0:02:13s\n",
      "epoch 39 | loss: 0.31823 | train_auc: 0.93722 | valid_auc: 0.92687 |  0:02:17s\n",
      "epoch 40 | loss: 0.31584 | train_auc: 0.93731 | valid_auc: 0.92546 |  0:02:20s\n",
      "epoch 41 | loss: 0.32244 | train_auc: 0.93703 | valid_auc: 0.92775 |  0:02:23s\n",
      "epoch 42 | loss: 0.31643 | train_auc: 0.93718 | valid_auc: 0.92516 |  0:02:27s\n",
      "epoch 43 | loss: 0.31938 | train_auc: 0.93816 | valid_auc: 0.92768 |  0:02:30s\n",
      "epoch 44 | loss: 0.31434 | train_auc: 0.93815 | valid_auc: 0.92541 |  0:02:34s\n",
      "epoch 45 | loss: 0.3107  | train_auc: 0.93814 | valid_auc: 0.92621 |  0:02:37s\n",
      "epoch 46 | loss: 0.31691 | train_auc: 0.93719 | valid_auc: 0.92379 |  0:02:40s\n",
      "epoch 47 | loss: 0.318   | train_auc: 0.93845 | valid_auc: 0.92681 |  0:02:44s\n",
      "epoch 48 | loss: 0.31077 | train_auc: 0.93748 | valid_auc: 0.92405 |  0:02:47s\n",
      "epoch 49 | loss: 0.31423 | train_auc: 0.93892 | valid_auc: 0.92656 |  0:02:51s\n",
      "epoch 50 | loss: 0.31401 | train_auc: 0.9392  | valid_auc: 0.92728 |  0:02:54s\n",
      "epoch 51 | loss: 0.30687 | train_auc: 0.94056 | valid_auc: 0.92697 |  0:02:58s\n",
      "\n",
      "Early stopping occurred at epoch 51 with best_epoch = 31 and best_valid_auc = 0.92948\n"
     ]
    },
    {
     "name": "stderr",
     "output_type": "stream",
     "text": [
      "c:\\Users\\mohammad spm\\AppData\\Local\\Programs\\Python\\Python311\\Lib\\site-packages\\pytorch_tabnet\\callbacks.py:172: UserWarning: Best weights from best epoch are automatically used!\n",
      "  warnings.warn(wrn_msg)\n"
     ]
    },
    {
     "name": "stdout",
     "output_type": "stream",
     "text": [
      "epoch 0  | loss: 0.66676 | train_auc: 0.76596 | valid_auc: 0.76667 |  0:00:03s\n",
      "epoch 1  | loss: 0.51109 | train_auc: 0.82248 | valid_auc: 0.82776 |  0:00:06s\n",
      "epoch 2  | loss: 0.46758 | train_auc: 0.85349 | valid_auc: 0.85659 |  0:00:10s\n",
      "epoch 3  | loss: 0.44612 | train_auc: 0.87304 | valid_auc: 0.87552 |  0:00:13s\n",
      "epoch 4  | loss: 0.42254 | train_auc: 0.88672 | valid_auc: 0.88299 |  0:00:16s\n",
      "epoch 5  | loss: 0.40975 | train_auc: 0.89478 | valid_auc: 0.89031 |  0:00:20s\n",
      "epoch 6  | loss: 0.39924 | train_auc: 0.90188 | valid_auc: 0.89676 |  0:00:23s\n",
      "epoch 7  | loss: 0.38848 | train_auc: 0.90704 | valid_auc: 0.9051  |  0:00:26s\n",
      "epoch 8  | loss: 0.38329 | train_auc: 0.91231 | valid_auc: 0.90962 |  0:00:30s\n",
      "epoch 9  | loss: 0.3686  | train_auc: 0.91208 | valid_auc: 0.90919 |  0:00:33s\n",
      "epoch 10 | loss: 0.36918 | train_auc: 0.91255 | valid_auc: 0.91137 |  0:00:36s\n",
      "epoch 11 | loss: 0.35408 | train_auc: 0.89701 | valid_auc: 0.89366 |  0:00:39s\n",
      "epoch 12 | loss: 0.35131 | train_auc: 0.89738 | valid_auc: 0.89503 |  0:00:42s\n",
      "epoch 13 | loss: 0.35154 | train_auc: 0.91196 | valid_auc: 0.91031 |  0:00:45s\n",
      "epoch 14 | loss: 0.34718 | train_auc: 0.91891 | valid_auc: 0.91672 |  0:00:48s\n",
      "epoch 15 | loss: 0.34361 | train_auc: 0.92307 | valid_auc: 0.92016 |  0:00:50s\n",
      "epoch 16 | loss: 0.34063 | train_auc: 0.9278  | valid_auc: 0.92259 |  0:00:54s\n",
      "epoch 17 | loss: 0.33684 | train_auc: 0.9248  | valid_auc: 0.92116 |  0:00:56s\n",
      "epoch 18 | loss: 0.34121 | train_auc: 0.92939 | valid_auc: 0.92514 |  0:00:59s\n",
      "epoch 19 | loss: 0.34294 | train_auc: 0.92893 | valid_auc: 0.92337 |  0:01:02s\n",
      "epoch 20 | loss: 0.33353 | train_auc: 0.92869 | valid_auc: 0.92227 |  0:01:05s\n",
      "epoch 21 | loss: 0.32889 | train_auc: 0.92965 | valid_auc: 0.922   |  0:01:07s\n",
      "epoch 22 | loss: 0.33041 | train_auc: 0.93117 | valid_auc: 0.92597 |  0:01:10s\n",
      "epoch 23 | loss: 0.33024 | train_auc: 0.93237 | valid_auc: 0.92567 |  0:01:13s\n",
      "epoch 24 | loss: 0.33425 | train_auc: 0.93316 | valid_auc: 0.92755 |  0:01:15s\n",
      "epoch 25 | loss: 0.32778 | train_auc: 0.93351 | valid_auc: 0.92765 |  0:01:18s\n",
      "epoch 26 | loss: 0.32096 | train_auc: 0.93354 | valid_auc: 0.92702 |  0:01:21s\n",
      "epoch 27 | loss: 0.32618 | train_auc: 0.93097 | valid_auc: 0.92476 |  0:01:24s\n",
      "epoch 28 | loss: 0.3283  | train_auc: 0.93305 | valid_auc: 0.9271  |  0:01:27s\n",
      "epoch 29 | loss: 0.3255  | train_auc: 0.93465 | valid_auc: 0.92728 |  0:01:29s\n",
      "epoch 30 | loss: 0.32154 | train_auc: 0.93539 | valid_auc: 0.92835 |  0:01:32s\n",
      "epoch 31 | loss: 0.31875 | train_auc: 0.93584 | valid_auc: 0.92948 |  0:01:35s\n",
      "epoch 32 | loss: 0.32125 | train_auc: 0.93448 | valid_auc: 0.92759 |  0:01:38s\n",
      "epoch 33 | loss: 0.32489 | train_auc: 0.93503 | valid_auc: 0.92651 |  0:01:41s\n",
      "epoch 34 | loss: 0.31889 | train_auc: 0.93632 | valid_auc: 0.92903 |  0:01:43s\n",
      "epoch 35 | loss: 0.31349 | train_auc: 0.93731 | valid_auc: 0.92847 |  0:01:46s\n",
      "epoch 36 | loss: 0.3209  | train_auc: 0.93686 | valid_auc: 0.92779 |  0:01:49s\n",
      "epoch 37 | loss: 0.31481 | train_auc: 0.93673 | valid_auc: 0.92646 |  0:01:51s\n",
      "epoch 38 | loss: 0.32443 | train_auc: 0.93475 | valid_auc: 0.92408 |  0:01:54s\n",
      "epoch 39 | loss: 0.31823 | train_auc: 0.93722 | valid_auc: 0.92687 |  0:01:57s\n",
      "epoch 40 | loss: 0.31584 | train_auc: 0.93731 | valid_auc: 0.92546 |  0:01:59s\n",
      "epoch 41 | loss: 0.32244 | train_auc: 0.93703 | valid_auc: 0.92775 |  0:02:02s\n",
      "epoch 42 | loss: 0.31643 | train_auc: 0.93718 | valid_auc: 0.92516 |  0:02:05s\n",
      "epoch 43 | loss: 0.31938 | train_auc: 0.93816 | valid_auc: 0.92768 |  0:02:08s\n",
      "epoch 44 | loss: 0.31434 | train_auc: 0.93815 | valid_auc: 0.92541 |  0:02:10s\n",
      "epoch 45 | loss: 0.3107  | train_auc: 0.93814 | valid_auc: 0.92621 |  0:02:13s\n",
      "epoch 46 | loss: 0.31691 | train_auc: 0.93719 | valid_auc: 0.92379 |  0:02:16s\n",
      "epoch 47 | loss: 0.318   | train_auc: 0.93845 | valid_auc: 0.92681 |  0:02:19s\n",
      "epoch 48 | loss: 0.31077 | train_auc: 0.93748 | valid_auc: 0.92405 |  0:02:22s\n",
      "epoch 49 | loss: 0.31423 | train_auc: 0.93892 | valid_auc: 0.92656 |  0:02:25s\n",
      "epoch 50 | loss: 0.31401 | train_auc: 0.9392  | valid_auc: 0.92728 |  0:02:27s\n",
      "epoch 51 | loss: 0.30687 | train_auc: 0.94056 | valid_auc: 0.92697 |  0:02:31s\n",
      "\n",
      "Early stopping occurred at epoch 51 with best_epoch = 31 and best_valid_auc = 0.92948\n"
     ]
    },
    {
     "name": "stderr",
     "output_type": "stream",
     "text": [
      "c:\\Users\\mohammad spm\\AppData\\Local\\Programs\\Python\\Python311\\Lib\\site-packages\\pytorch_tabnet\\callbacks.py:172: UserWarning: Best weights from best epoch are automatically used!\n",
      "  warnings.warn(wrn_msg)\n"
     ]
    }
   ],
   "source": [
    "# This illustrates the warm_start=False behaviour\n",
    "save_history = []\n",
    "for _ in range(2):\n",
    "    clf.fit(\n",
    "        X_train=X_train, y_train=y_train,\n",
    "        eval_set=[(X_train, y_train), (X_valid, y_valid)],\n",
    "        eval_name=['train', 'valid'],\n",
    "        eval_metric=['auc'],\n",
    "        max_epochs=max_epochs , patience=20,\n",
    "        batch_size=1024, virtual_batch_size=128,\n",
    "        num_workers=0,\n",
    "        weights=1,\n",
    "        drop_last=False\n",
    "    )\n",
    "    save_history.append(clf.history[\"valid_auc\"])\n",
    "    \n",
    "assert(np.all(np.array(save_history[0]==np.array(save_history[1]))))"
   ]
  },
  {
   "cell_type": "markdown",
   "metadata": {},
   "source": [
    "## Predictions"
   ]
  },
  {
   "cell_type": "code",
   "execution_count": 26,
   "metadata": {},
   "outputs": [
    {
     "name": "stdout",
     "output_type": "stream",
     "text": [
      "BEST VALID SCORE FOR census-income : 0.9294823849797673\n",
      "FINAL TEST SCORE FOR census-income : 0.9253925992549173\n"
     ]
    }
   ],
   "source": [
    "preds = clf.predict_proba(X_test)\n",
    "test_auc = roc_auc_score(y_score=preds[:,1], y_true=y_test)\n",
    "\n",
    "\n",
    "preds_valid = clf.predict_proba(X_valid)\n",
    "valid_auc = roc_auc_score(y_score=preds_valid[:,1], y_true=y_valid)\n",
    "\n",
    "print(f\"BEST VALID SCORE FOR {dataset_name} : {clf.best_cost}\")\n",
    "print(f\"FINAL TEST SCORE FOR {dataset_name} : {test_auc}\")"
   ]
  },
  {
   "cell_type": "code",
   "execution_count": 42,
   "metadata": {},
   "outputs": [],
   "source": [
    "lb = LabelBinarizer()\n",
    "\n",
    "# Fit and transform the target data\n",
    "y_test = lb.fit_transform(y_test)"
   ]
  },
  {
   "cell_type": "code",
   "execution_count": 43,
   "metadata": {},
   "outputs": [
    {
     "name": "stdout",
     "output_type": "stream",
     "text": [
      "              precision    recall  f1-score   support\n",
      "\n",
      "           0       0.62      0.84      0.71       790\n",
      "           1       0.94      0.83      0.88      2477\n",
      "\n",
      "    accuracy                           0.83      3267\n",
      "   macro avg       0.78      0.83      0.80      3267\n",
      "weighted avg       0.86      0.83      0.84      3267\n",
      "\n"
     ]
    }
   ],
   "source": [
    "preds = clf.predict_proba(X_test)\n",
    "pred_labels = np.rint(preds)\n",
    "pred_labels=pred_labels[:,1]\n",
    "print(classification_report(y_test, pred_labels))"
   ]
  },
  {
   "cell_type": "code",
   "execution_count": null,
   "metadata": {},
   "outputs": [],
   "source": [
    "# check that best weights are used\n",
    "assert np.isclose(valid_auc, np.max(clf.history['valid_auc']), atol=1e-6)"
   ]
  },
  {
   "cell_type": "code",
   "execution_count": 18,
   "metadata": {},
   "outputs": [
    {
     "data": {
      "text/plain": [
       "array(['not_wealthy', 'not_wealthy', 'wealthy', ..., 'not_wealthy',\n",
       "       'wealthy', 'not_wealthy'], dtype='<U11')"
      ]
     },
     "execution_count": 18,
     "metadata": {},
     "output_type": "execute_result"
    }
   ],
   "source": [
    "clf.predict(X_test)"
   ]
  },
  {
   "cell_type": "markdown",
   "metadata": {},
   "source": [
    "# Save and load Model"
   ]
  },
  {
   "cell_type": "code",
   "execution_count": 19,
   "metadata": {},
   "outputs": [
    {
     "name": "stdout",
     "output_type": "stream",
     "text": [
      "Successfully saved model at ./tabnet_model_test_1.zip\n"
     ]
    }
   ],
   "source": [
    "# save tabnet model\n",
    "saving_path_name = \"./tabnet_model_test_1\"\n",
    "saved_filepath = clf.save_model(saving_path_name)"
   ]
  },
  {
   "cell_type": "code",
   "execution_count": 20,
   "metadata": {},
   "outputs": [
    {
     "name": "stderr",
     "output_type": "stream",
     "text": [
      "C:\\Users\\mohammad spm\\Documents\\univercity\\proje\\tabnet-develop\\pytorch_tabnet\\abstract_model.py:74: UserWarning: Device used : cpu\n",
      "  warnings.warn(f\"Device used : {self.device}\")\n"
     ]
    }
   ],
   "source": [
    "# define new model with basic parameters and load state dict weights\n",
    "loaded_clf = TabNetClassifier()\n",
    "loaded_clf.load_model(saved_filepath)"
   ]
  },
  {
   "cell_type": "code",
   "execution_count": 21,
   "metadata": {},
   "outputs": [
    {
     "name": "stdout",
     "output_type": "stream",
     "text": [
      "FINAL TEST SCORE FOR census-income : 0.9279063587536986\n"
     ]
    }
   ],
   "source": [
    "loaded_preds = loaded_clf.predict_proba(X_test)\n",
    "loaded_test_auc = roc_auc_score(y_score=loaded_preds[:,1], y_true=y_test)\n",
    "\n",
    "print(f\"FINAL TEST SCORE FOR {dataset_name} : {loaded_test_auc}\")"
   ]
  },
  {
   "cell_type": "code",
   "execution_count": 22,
   "metadata": {},
   "outputs": [],
   "source": [
    "assert(test_auc == loaded_test_auc)"
   ]
  },
  {
   "cell_type": "code",
   "execution_count": 23,
   "metadata": {},
   "outputs": [
    {
     "data": {
      "text/plain": [
       "array(['not_wealthy', 'not_wealthy', 'wealthy', ..., 'not_wealthy',\n",
       "       'wealthy', 'not_wealthy'], dtype='<U11')"
      ]
     },
     "execution_count": 23,
     "metadata": {},
     "output_type": "execute_result"
    }
   ],
   "source": [
    "loaded_clf.predict(X_test)"
   ]
  },
  {
   "cell_type": "markdown",
   "metadata": {},
   "source": [
    "# Global explainability : feat importance summing to 1"
   ]
  },
  {
   "cell_type": "code",
   "execution_count": 24,
   "metadata": {},
   "outputs": [
    {
     "data": {
      "text/plain": [
       "array([0.03491183, 0.02163895, 0.00122028, 0.05046258, 0.15263826,\n",
       "       0.19863516, 0.05084887, 0.12943009, 0.04566026, 0.05223384,\n",
       "       0.19165931, 0.01201061, 0.01320786, 0.04544209])"
      ]
     },
     "execution_count": 24,
     "metadata": {},
     "output_type": "execute_result"
    }
   ],
   "source": [
    "clf.feature_importances_"
   ]
  },
  {
   "cell_type": "markdown",
   "metadata": {},
   "source": [
    "# Local explainability and masks"
   ]
  },
  {
   "cell_type": "code",
   "execution_count": 25,
   "metadata": {},
   "outputs": [],
   "source": [
    "explain_matrix, masks = clf.explain(X_test)"
   ]
  },
  {
   "cell_type": "code",
   "execution_count": 26,
   "metadata": {},
   "outputs": [
    {
     "data": {
      "image/png": "[encoded data removed]",
      "text/plain": [
       "<Figure size 2000x2000 with 3 Axes>"
      ]
     },
     "metadata": {},
     "output_type": "display_data"
    }
   ],
   "source": [
    "fig, axs = plt.subplots(1, 3, figsize=(20,20))\n",
    "\n",
    "for i in range(3):\n",
    "    axs[i].imshow(masks[i][:50])\n",
    "    axs[i].set_title(f\"mask {i}\")\n"
   ]
  }
 ],
 "metadata": {
  "kernelspec": {
   "display_name": "Python 3",
   "language": "python",
   "name": "python3"
  },
  "language_info": {
   "codemirror_mode": {
    "name": "ipython",
    "version": 3
   },
   "file_extension": ".py",
   "mimetype": "text/x-python",
   "name": "python",
   "nbconvert_exporter": "python",
   "pygments_lexer": "ipython3",
   "version": "3.11.3"
  },
  "toc": {
   "base_numbering": 1,
   "nav_menu": {},
   "number_sections": true,
   "sideBar": true,
   "skip_h1_title": false,
   "title_cell": "Table of Contents",
   "title_sidebar": "Contents",
   "toc_cell": false,
   "toc_position": {},
   "toc_section_display": true,
   "toc_window_display": false
  }
 },
 "nbformat": 4,
 "nbformat_minor": 4
}
